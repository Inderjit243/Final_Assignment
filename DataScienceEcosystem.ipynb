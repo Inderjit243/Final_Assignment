{
 "cells": [
  {
   "cell_type": "markdown",
   "id": "dc601d99-5d28-476e-9334-fd5e467320da",
   "metadata": {},
   "source": [
    "#  Data Science Tools and Ecosystem"
   ]
  },
  {
   "cell_type": "markdown",
   "id": "b542c301-4728-42b1-b37d-044dc01b26c2",
   "metadata": {},
   "source": [
    "*__In this notebook, Data Science Tools and Ecosystem are summarized.__*"
   ]
  },
  {
   "cell_type": "markdown",
   "id": "986c4a62-c569-443c-8dba-2b66068bcad8",
   "metadata": {},
   "source": [
    "__Objectives:__\n",
    "- List popular languages used by Data Scientists\n",
    "- List popular tools used by  Data Scientists\n",
    "- List popular libraries used by Data Scientists"
   ]
  },
  {
   "cell_type": "markdown",
   "id": "2074ddcb-fa33-4e34-bc2d-6f8b650eb0f6",
   "metadata": {},
   "source": [
    "*Some of the popular languages that Data Scientists use are:*\n",
    "\n",
    "1. Python\n",
    "2. R\n",
    "3. SQL\n",
    "4. SCALA"
   ]
  },
  {
   "cell_type": "markdown",
   "id": "73b6c854-5ef2-40a7-9a7d-95b725258075",
   "metadata": {},
   "source": [
    "*Some of the commonly used libraries used by Data Scientists include:*\n",
    "\n",
    "1. NumPy\n",
    "2. Pandas\n",
    "3. Matplotlib"
   ]
  },
  {
   "cell_type": "markdown",
   "id": "bfd76e15-a8fd-4469-b4d7-1eb4e3ad0f99",
   "metadata": {},
   "source": [
    "| Data Science Tools |\n",
    "| -------------------|\n",
    "| Jupyter Notebook |\n",
    "| Apache Spark  |\n",
    "| TensorFlow |"
   ]
  },
  {
   "cell_type": "markdown",
   "id": "8b2e56a0-d6fc-423c-8aa0-e06bd7b7ffd2",
   "metadata": {},
   "source": [
    "### Below are a few examples of evaluating arithmetic expressions in Python:"
   ]
  },
  {
   "cell_type": "code",
   "execution_count": 4,
   "id": "5bf350f8-e2a9-4136-9fac-4505da8506ff",
   "metadata": {},
   "outputs": [
    {
     "data": {
      "text/plain": [
       "17"
      ]
     },
     "execution_count": 4,
     "metadata": {},
     "output_type": "execute_result"
    }
   ],
   "source": [
    "#This a simple arithmetic expression to mutiply then add integers.\n",
    "(3*4)+5"
   ]
  },
  {
   "cell_type": "code",
   "execution_count": 5,
   "id": "375abead-a286-47a7-a5db-d206bc6c3406",
   "metadata": {},
   "outputs": [
    {
     "data": {
      "text/plain": [
       "3.3333333333333335"
      ]
     },
     "execution_count": 5,
     "metadata": {},
     "output_type": "execute_result"
    }
   ],
   "source": [
    "#This will convert 200 minutes to hours by diving by 60.\n",
    "200/60"
   ]
  },
  {
   "cell_type": "markdown",
   "id": "6b45b278-eaa3-46fa-8c68-070726159819",
   "metadata": {},
   "source": [
    "## Author\n",
    "Inderjit Kaur"
   ]
  },
  {
   "cell_type": "code",
   "execution_count": null,
   "id": "30f0fd94-7408-4dcb-9ac1-5b2f4a1f5ac7",
   "metadata": {},
   "outputs": [],
   "source": []
  }
 ],
 "metadata": {
  "kernelspec": {
   "display_name": "Python 3 (ipykernel)",
   "language": "python",
   "name": "python3"
  },
  "language_info": {
   "codemirror_mode": {
    "name": "ipython",
    "version": 3
   },
   "file_extension": ".py",
   "mimetype": "text/x-python",
   "name": "python",
   "nbconvert_exporter": "python",
   "pygments_lexer": "ipython3",
   "version": "3.12.4"
  }
 },
 "nbformat": 4,
 "nbformat_minor": 5
}
